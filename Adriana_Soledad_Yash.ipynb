{
 "cells": [
  {
   "cell_type": "markdown",
   "id": "3e4aed77-7e51-4239-b094-9f2e752d6ae8",
   "metadata": {},
   "source": [
    "### Objective and Dataset Rationale\n",
    "\n",
    "**Objective:**  \n",
    "In line with the DTI’s mandate to evaluate how Ireland can safeguard and enhance its innovation ecosystem in a volatile geopolitical era, this project aims to empirically assess the interplay between technological adoption, R&D investment, and enterprise engagement. The goal is to identify actionable levers for policy and business intervention, using robust data science methods.\n",
    "\n",
    "**Why these datasets?**  \n",
    "Given the vast scope of innovation drivers, we selected three datasets that, together, capture the core pillars of the DTI framework:  \n",
    "- **df1:** Intellectual Property Engagement Rates (proxy for technological adoption and knowledge creation)\n",
    "- **df2:** R&D Expenditure by Category and Ownership (proxy for investment flows)\n",
    "- **df3:** R&D Enterprise Counts by Expenditure Band and Ownership (proxy for organizational engagement and scale)\n",
    "\n",
    "These datasets were chosen because they are the most relevant, accessible, and granular sources available for Ireland’s innovation landscape. Their integration allows us to triangulate key parameters of innovation performance, despite the inherent challenges of data heterogeneity and missingness."
   ]
  },
  {
   "cell_type": "code",
   "execution_count": 1,
   "id": "5f00e411-c400-4eaf-a429-bb2808169e2f",
   "metadata": {},
   "outputs": [],
   "source": [
    "import pandas as pd\n",
    "import numpy as np\n",
    "import seaborn as sns\n",
    "import matplotlib.pyplot as plt \n",
    "from sklearn.impute import SimpleImputer\n",
    "from sklearn.preprocessing import LabelEncoder"
   ]
  },
  {
   "cell_type": "code",
   "execution_count": 2,
   "id": "dcc9eb02-2c82-43bb-8ad8-5d95036737d7",
   "metadata": {},
   "outputs": [],
   "source": [
    "#  Load raw CSVs\n",
    "df1 = pd.read_csv('CIS62.20250516213458.csv')  # IP engagement rates \n",
    "df2 = pd.read_csv('BSA02.20250516T100541.csv')  # Total R&D expenditure \n",
    "df3 = pd.read_csv('BSA22.20250516T200531.csv')  # R&D enterprise headcounts "
   ]
  },
  {
   "cell_type": "code",
   "execution_count": 3,
   "id": "f7cff303-f641-48f3-8379-2e86f0bcbf4e",
   "metadata": {},
   "outputs": [
    {
     "name": "stdout",
     "output_type": "stream",
     "text": [
      "==================================================\n",
      "df1 (CIS62.20250516213458.csv) HEAD\n",
      "==================================================\n",
      "                                     STATISTIC Label  TLIST(A1)  Year  \\\n",
      "0  Enterprises Engaged in Intellectual Property R...       2014  2014   \n",
      "1  Enterprises Engaged in Intellectual Property R...       2014  2014   \n",
      "2  Enterprises Engaged in Intellectual Property R...       2014  2014   \n",
      "3  Enterprises Engaged in Intellectual Property R...       2014  2014   \n",
      "4  Enterprises Engaged in Intellectual Property R...       2014  2014   \n",
      "\n",
      "            Type of Innovation  VALUE  \n",
      "0  Any intellectual innovation    NaN  \n",
      "1  Any intellectual innovation    NaN  \n",
      "2  Any intellectual innovation    NaN  \n",
      "3           Apply for a patent    NaN  \n",
      "4           Apply for a patent    NaN   \n",
      "\n",
      "df1 INFO\n",
      "==================================================\n",
      "<class 'pandas.core.frame.DataFrame'>\n",
      "RangeIndex: 105 entries, 0 to 104\n",
      "Data columns (total 5 columns):\n",
      " #   Column              Non-Null Count  Dtype  \n",
      "---  ------              --------------  -----  \n",
      " 0   STATISTIC Label     105 non-null    object \n",
      " 1   TLIST(A1)           105 non-null    int64  \n",
      " 2   Year                105 non-null    int64  \n",
      " 3   Type of Innovation  105 non-null    object \n",
      " 4   VALUE               75 non-null     float64\n",
      "dtypes: float64(1), int64(2), object(2)\n",
      "memory usage: 4.2+ KB\n",
      "None \n",
      "\n",
      "\n"
     ]
    }
   ],
   "source": [
    "# Display head and info for df1\n",
    "print(\"=\"*50)\n",
    "print(\"df1 (CIS62.20250516213458.csv) HEAD\")\n",
    "print(\"=\"*50)\n",
    "print(df1.head(), \"\\n\")\n",
    "print(\"df1 INFO\")\n",
    "print(\"=\"*50)\n",
    "print(df1.info(), \"\\n\\n\")"
   ]
  },
  {
   "cell_type": "code",
   "execution_count": 4,
   "id": "2a74c7ee-0119-4b5c-b32c-f9f2c8a966b8",
   "metadata": {},
   "outputs": [
    {
     "name": "stdout",
     "output_type": "stream",
     "text": [
      "==================================================\n",
      "df2 (BSA02.20250516T100541.csv) HEAD\n",
      "==================================================\n",
      "                                Statistic Label  Year  \\\n",
      "0  Estimated Current Expenditure - Labour Costs  2007   \n",
      "1  Estimated Current Expenditure - Labour Costs  2007   \n",
      "2  Estimated Current Expenditure - Labour Costs  2007   \n",
      "3  Estimated Current Expenditure - Labour Costs  2008   \n",
      "4  Estimated Current Expenditure - Labour Costs  2008   \n",
      "\n",
      "         Nationality of Ownership     VALUE  \n",
      "0  All nationalities of ownership       NaN  \n",
      "1                 Irish ownership       NaN  \n",
      "2             Non Irish ownership       NaN  \n",
      "3  All nationalities of ownership  905373.0  \n",
      "4                 Irish ownership  308698.0   \n",
      "\n",
      "df2 INFO\n",
      "==================================================\n",
      "<class 'pandas.core.frame.DataFrame'>\n",
      "RangeIndex: 1080 entries, 0 to 1079\n",
      "Data columns (total 4 columns):\n",
      " #   Column                    Non-Null Count  Dtype  \n",
      "---  ------                    --------------  -----  \n",
      " 0   Statistic Label           1080 non-null   object \n",
      " 1   Year                      1080 non-null   int64  \n",
      " 2   Nationality of Ownership  1080 non-null   object \n",
      " 3   VALUE                     453 non-null    float64\n",
      "dtypes: float64(1), int64(1), object(2)\n",
      "memory usage: 33.9+ KB\n",
      "None \n",
      "\n",
      "\n"
     ]
    }
   ],
   "source": [
    "# Display head and info for df2\n",
    "print(\"=\"*50)\n",
    "print(\"df2 (BSA02.20250516T100541.csv) HEAD\")\n",
    "print(\"=\"*50)\n",
    "print(df2.head(), \"\\n\")\n",
    "print(\"df2 INFO\")\n",
    "print(\"=\"*50)\n",
    "print(df2.info(), \"\\n\\n\")"
   ]
  },
  {
   "cell_type": "code",
   "execution_count": 5,
   "id": "d3b5e798-aa81-4f10-bd96-2251821719ea",
   "metadata": {},
   "outputs": [
    {
     "name": "stdout",
     "output_type": "stream",
     "text": [
      "==================================================\n",
      "df3 (BSA22.20250516T200531.csv) HEAD\n",
      "==================================================\n",
      "                                     Statistic Label  Year  \\\n",
      "0  Enterprises Engaged in Research and Developmen...  2007   \n",
      "1  Enterprises Engaged in Research and Developmen...  2007   \n",
      "2  Enterprises Engaged in Research and Developmen...  2007   \n",
      "3  Enterprises Engaged in Research and Developmen...  2007   \n",
      "4  Enterprises Engaged in Research and Developmen...  2007   \n",
      "\n",
      "         Nationality of Ownership              Expenditure   VALUE  \n",
      "0  All nationalities of ownership          Any expenditure  1206.0  \n",
      "1  All nationalities of ownership             €0 - €99,999   419.0  \n",
      "2  All nationalities of ownership      €100,000 - €499,999   398.0  \n",
      "3  All nationalities of ownership    €500,000 - €1,999,999   226.0  \n",
      "4  All nationalities of ownership  €2,000,000 - €4,999,999    90.0   \n",
      "\n",
      "df3 INFO\n",
      "==================================================\n",
      "<class 'pandas.core.frame.DataFrame'>\n",
      "RangeIndex: 324 entries, 0 to 323\n",
      "Data columns (total 5 columns):\n",
      " #   Column                    Non-Null Count  Dtype  \n",
      "---  ------                    --------------  -----  \n",
      " 0   Statistic Label           324 non-null    object \n",
      " 1   Year                      324 non-null    int64  \n",
      " 2   Nationality of Ownership  324 non-null    object \n",
      " 3   Expenditure               324 non-null    object \n",
      " 4   VALUE                     324 non-null    float64\n",
      "dtypes: float64(1), int64(1), object(3)\n",
      "memory usage: 12.8+ KB\n",
      "None\n"
     ]
    }
   ],
   "source": [
    "# Display head and info for df3\n",
    "print(\"=\"*50)\n",
    "print(\"df3 (BSA22.20250516T200531.csv) HEAD\")\n",
    "print(\"=\"*50)\n",
    "print(df3.head(), \"\\n\")\n",
    "print(\"df3 INFO\")\n",
    "print(\"=\"*50)\n",
    "print(df3.info())"
   ]
  },
  {
   "cell_type": "markdown",
   "id": "db4ef843-0409-43a4-b33d-eb3b6de43c30",
   "metadata": {},
   "source": [
    "The initial inspection reveals that, while each dataset is individually valuable, they differ in completeness, granularity, and focus. Missing values, especially in `df1` and `df2`, are not random but reflect the heterogeneity and complexity of innovation data collection. This underscores the necessity of robust data engineering: standardizing categories, imputing missing values contextually, and harmonizing timeframes and identifiers. Only through such preprocessing can we integrate these datasets to empirically examine the interplay between knowledge activity, financial investment, and enterprise engagement-the core parameters of Ireland’s innovation ecosystem as articulated in the DTI framework"
   ]
  },
  {
   "cell_type": "markdown",
   "id": "3d541256-2c2c-4063-b95c-bb705b486150",
   "metadata": {},
   "source": [
    "## Data Preparation:\n",
    "\n",
    "- Standardize column names for consistency.\n",
    "- Map categorical variables to interpretable codes.\n",
    "- Impute missing values contextually (0 for absence, mean for expenditures).\n",
    "- Retain only relevant columns for analysis."
   ]
  },
  {
   "cell_type": "code",
   "execution_count": 23,
   "id": "ce7a9f3a-6398-4da9-b479-733aa77545a9",
   "metadata": {},
   "outputs": [],
   "source": [
    "for df in [df1, df2, df3]:\n",
    "    df.columns = df.columns.str.strip().str.replace(\" \", \"_\").str.lower()"
   ]
  },
  {
   "cell_type": "code",
   "execution_count": 59,
   "id": "1880076c-b219-40e6-a27f-49f9ef3da4b9",
   "metadata": {},
   "outputs": [],
   "source": [
    "# After loading, before any other operation\n",
    "for df in [df1, df2, df3]:\n",
    "    df.columns = df.columns.str.strip().str.replace(\" \", \"_\").str.lower()\n",
    "# Remove redundant columns\n",
    "if 'tlist(a1)' in df1.columns and 'year' in df1.columns:\n",
    "    df1.drop(columns=['tlist(a1)'], inplace=True)"
   ]
  },
  {
   "cell_type": "code",
   "execution_count": 24,
   "id": "c9ba50e2-818a-44c1-bbcd-14767568dfe6",
   "metadata": {},
   "outputs": [],
   "source": [
    "if 'type_of_innovation' in df1.columns:\n",
    "    df1['is_patent'] = df1['type_of_innovation'].str.lower().str.contains('patent').astype(int)"
   ]
  },
  {
   "cell_type": "code",
   "execution_count": 25,
   "id": "0754e002-f9e6-4b67-b511-99ebd33baafb",
   "metadata": {},
   "outputs": [],
   "source": [
    "patent_by_year = df1.groupby('year')['is_patent'].max().reset_index()"
   ]
  },
  {
   "cell_type": "code",
   "execution_count": 26,
   "id": "674f8c62-2b35-4838-b10b-a64f3704a938",
   "metadata": {},
   "outputs": [],
   "source": [
    "df2['stat_label_code'] = df2['statistic_label'].astype('category').cat.codes\n",
    "df2['ownership_code'] = df2['nationality_of_ownership'].astype('category').cat.codes"
   ]
  },
  {
   "cell_type": "code",
   "execution_count": 60,
   "id": "11bb4315-d393-4192-9a66-aef48cd45671",
   "metadata": {},
   "outputs": [],
   "source": [
    "# Save mapping for interpretation\n",
    "stat_label_mapping = dict(enumerate(df2['statistic_label'].astype('category').cat.categories))\n",
    "ownership_mapping = dict(enumerate(df2['nationality_of_ownership'].astype('category').cat.categories))\n",
    "# Check for NaNs\n",
    "assert not df2['stat_label_code'].isnull().any(), \"Encoding error: NaNs found in stat_label_code\"\n",
    "assert not df2['ownership_code'].isnull().any(), \"Encoding error: NaNs found in ownership_code\""
   ]
  },
  {
   "cell_type": "code",
   "execution_count": 27,
   "id": "91d578b7-7c2d-481c-82db-a2aa2a517769",
   "metadata": {},
   "outputs": [],
   "source": [
    "df1['is patent'] = (df1['type_of_innovation'].str.lower().str.contains('patent')).astype(int)"
   ]
  },
  {
   "cell_type": "code",
   "execution_count": 61,
   "id": "403414cc-38af-41e2-94e0-142f01b66219",
   "metadata": {},
   "outputs": [],
   "source": [
    "# Remove duplicate column if exists\n",
    "if 'is patent' in df1.columns:\n",
    "    df1.drop(columns=['is patent'], inplace=True)"
   ]
  },
  {
   "cell_type": "code",
   "execution_count": 62,
   "id": "a5ee0d60-87c3-4b7d-8ed7-cd09660fa6c4",
   "metadata": {},
   "outputs": [],
   "source": [
    "if 'expenditure_eur' in df2.columns:\n",
    "    df2['expenditure_eur'] = df2.groupby(['stat_label_code', 'ownership_code'])['value'].transform(lambda x: x.fillna(x.median()))"
   ]
  },
  {
   "cell_type": "code",
   "execution_count": 32,
   "id": "dec16964-dabd-45ca-824e-98681163c58d",
   "metadata": {},
   "outputs": [],
   "source": [
    "df2_clean = df2[['year', 'stat_label_code', 'ownership_code', 'expenditure_eur']]"
   ]
  },
  {
   "cell_type": "code",
   "execution_count": 38,
   "id": "9c60c15d-36c8-4756-b107-0ffd8676ec71",
   "metadata": {},
   "outputs": [],
   "source": [
    "# Map Statistic Label to codes (by type of expenditure)\n",
    "stat_label_map = {\n",
    "    \"Estimated Current Expenditure - Labour Costs\": 0,\n",
    "    \"Estimated Current Expenditure - Other Current Costs\": 1,\n",
    "    \"Estimated Total Current Expenditure\": 2,\n",
    "    \"Estimated Capital Expenditure - Land and Buildings\": 3,\n",
    "    \"Estimated Capital Expenditure- Payments made for licences to use intellectual products\": 4,\n",
    "    \"Estimated Capital Expenditure - Instruments and Equipment (excluding software)\": 5,\n",
    "    \"Estimated Capital Expenditure - Software purchased wholly for Research and Development purposes\": 6,\n",
    "    \"Estimated Capital Expenditure - Software development by company in-house and used in-house\": 7,\n",
    "    \"Estimated Total Capital Expenditure\": 8,\n",
    "    \"Estimated Total Research and Development Expenditure\": 9,\n",
    "    \"Actual Current Expenditure - Labour Costs\": 10,\n",
    "    \"Actual Current Expenditure - Other Current Costs\": 11,\n",
    "    \"Actual Total Current Expenditure\": 12,\n",
    "    \"Actual Capital Expenditure - Land and Buildings\": 13,\n",
    "    \"Actual Capital Expenditure- Payments made for licences to use intellectual products\": 14,\n",
    "    \"Actual Capital Expenditure - Instruments and Equipment (excluding software)\": 15,\n",
    "    \"Actual Capital Expenditure - Software purchased wholly for Research and Development purposes\": 16,\n",
    "    \"Actual Capital Expenditure - Software development by company in-house and used in-house\": 17,\n",
    "    \"Actual Total Capital Expenditure\": 18,\n",
    "    \"Actual Total Research and Development Expenditure\": 19\n",
    "}\n",
    "df2['stat_label_code'] = df2['statistic_label'].map(stat_label_map)\n",
    "\n",
    "# Map Nationality of Ownership\n",
    "ownership_map = {\n",
    "    \"Non Irish ownership\": 0,\n",
    "    \"Irish ownership\": 1,\n",
    "    \"All nationalities of ownership\": 2\n",
    "}\n",
    "df2['ownership_code'] = df2['nationality_of_ownership'].map(ownership_map)\n",
    "\n",
    "# Define the list of code columns you want to clean\n",
    "code_cols = ['ip_activity_code', 'stat_label_code', 'ownership_code', 'expenditure_code']"
   ]
  },
  {
   "cell_type": "markdown",
   "id": "70fa5065-d686-4d62-a304-7bacc45023bd",
   "metadata": {},
   "source": [
    "Data Merging\n",
    "\n",
    "The cleaned datasets are merged on shared keys (year, stat_label_code, ownership_code, expenditure_code) to create a unified DataFrame (`df`). Only rows with at least one main value present are retained.\n"
   ]
  },
  {
   "cell_type": "code",
   "execution_count": 42,
   "id": "9096f582-0e96-45e5-a5f2-1e741f61482d",
   "metadata": {
    "scrolled": true
   },
   "outputs": [],
   "source": [
    "# Merge df1 and df2 on year (outer to preserve all info)\n",
    "df = pd.merge(df1, df2, on='year', how='outer')\n",
    "\n",
    "# Merge with df3 on year, stat_label_code, ownership_code, and expenditure_code if present\n",
    "merge_cols = ['year']\n",
    "if 'stat_label_code' in df.columns and 'stat_label_code' in df3.columns:\n",
    "    merge_cols.append('stat_label_code')\n",
    "if 'ownership_code' in df.columns and 'ownership_code' in df3.columns:\n",
    "    merge_cols.append('ownership_code')\n",
    "if 'expenditure_code' in df3.columns and 'expenditure_code' in df.columns:\n",
    "    merge_cols.append('expenditure_code')\n",
    "\n",
    "df = pd.merge(df, df3, on=merge_cols, how='outer')"
   ]
  },
  {
   "cell_type": "code",
   "execution_count": 48,
   "id": "2ab1d86d-e5ca-4183-aa98-5fab6ceabdb7",
   "metadata": {},
   "outputs": [],
   "source": [
    "#  For each value column, fill missing with 0 if it makes sense (e.g., engagement_rate_pct),\n",
    "# or with the median/mean of the group if it's an expenditure or metric value.\n",
    "if 'engagement_rate_pct' in df.columns:\n",
    "    df['engagement_rate_pct'] = df['engagement_rate_pct'].fillna(0)\n",
    "\n",
    "if 'expenditure_eur' in df.columns:\n",
    "    df['expenditure_eur'] = df.groupby(['stat_label_code', 'ownership_code'])['expenditure_eur'].transform(lambda x: x.fillna(x.mean()))\n",
    "\n",
    "if 'metric_value' in df.columns:\n",
    "    df['metric_value'] = df.groupby(['stat_label_code', 'expenditure_code', 'ownership_code'])['metric_value'].transform(lambda x: x.fillna(x.mean()))\n",
    "\n",
    "#  For code columns, fill missing with a placeholder (e.g., -1) or the most frequent value if appropriate\n",
    "code_cols = ['ip_activity_code', 'stat_label_code', 'ownership_code', 'expenditure_code']\n",
    "for col in code_cols:\n",
    "    if col in df.columns:\n",
    "        df[col] = df[col].fillna(-1).astype(int)"
   ]
  },
  {
   "cell_type": "code",
   "execution_count": 53,
   "id": "4dad8984-bd9e-4c87-939e-d32622008440",
   "metadata": {},
   "outputs": [],
   "source": [
    "# For each value column, fill missing with 0 if it makes sense (e.g., engagement_rate_pct),\n",
    "# or with the median/mean of the group if it's an expenditure or metric value.\n",
    "if 'engagement_rate_pct' in df.columns:\n",
    "    df['engagement_rate_pct'] = df['engagement_rate_pct'].fillna(0)\n",
    "\n",
    "if 'expenditure_eur' in df.columns:\n",
    "    df['expenditure_eur'] = df.groupby(['stat_label_code', 'ownership_code'])['expenditure_eur'].transform(lambda x: x.fillna(x.mean()))\n",
    "\n",
    "if 'metric_value' in df.columns:\n",
    "    df['metric_value'] = df.groupby(['stat_label_code', 'expenditure_code', 'ownership_code'])['metric_value'].transform(lambda x: x.fillna(x.mean()))"
   ]
  },
  {
   "cell_type": "markdown",
   "id": "f0c05fe3-d3c0-4ca3-97dd-d58aa490e92f",
   "metadata": {},
   "source": [
    "### Exploratory Data Analysis (EDA):   \n",
    "We focus on:\n",
    "- Distribution and skewness of innovation engagement and investment.\n",
    "- Temporal trends in R&D expenditure and enterprise activity.\n",
    "- Relationships between ownership, expenditure band, and innovation outcomes."
   ]
  },
  {
   "cell_type": "code",
   "execution_count": 54,
   "id": "2132959d-e009-45d9-800c-03d189140b5a",
   "metadata": {},
   "outputs": [
    {
     "data": {
      "image/png": "[encoded data removed]",
      "text/plain": [
       "<Figure size 800x400 with 1 Axes>"
      ]
     },
     "metadata": {},
     "output_type": "display_data"
    }
   ],
   "source": [
    "plt.figure(figsize=(8, 4))\n",
    "sns.histplot(df['expenditure_eur'], bins=30, color='dodgerblue', edgecolor='black')\n",
    "plt.title(\"Distribution of R&D Expenditure (EUR)\")\n",
    "plt.xlabel(\"Expenditure (EUR)\")\n",
    "plt.ylabel(\"Frequency\")\n",
    "plt.grid(alpha=0.3)\n",
    "plt.tight_layout()\n",
    "plt.show()"
   ]
  },
  {
   "cell_type": "code",
   "execution_count": null,
   "id": "8d2e860b-fd9e-4feb-9503-fa0b8cfef19d",
   "metadata": {},
   "outputs": [],
   "source": [
    "from sklearn.preprocessing import StandardScaler\n",
    "from sklearn.decomposition import PCA\n",
    "\n",
    "# Check columns and select features\n",
    "print(df_cleaned.columns.tolist())\n",
    "features = [\n",
    "    'engagement_rate_pct', 'expenditure_eur', 'metric_value',\n",
    "    'Type_of_Innovation_code', 'Statistic_Label_code',\n",
    "    'Nationality_of_Ownership_code', 'Expenditure_code'\n",
    "]\n",
    "features = [col for col in features if col in df_cleaned.columns]"
   ]
  },
  {
   "cell_type": "code",
   "execution_count": null,
   "id": "eb40d175-c8c3-449e-9114-305143621bc2",
   "metadata": {},
   "outputs": [],
   "source": [
    "#  Prepare data for PCA\n",
    "X = df_cleaned[features].values"
   ]
  },
  {
   "cell_type": "code",
   "execution_count": null,
   "id": "36c46094-0c1a-442f-ad6b-9412a0d380e7",
   "metadata": {},
   "outputs": [],
   "source": [
    "# 3. Standardize features\n",
    "scaler = StandardScaler()\n",
    "X_scaled = scaler.fit_transform(X)"
   ]
  },
  {
   "cell_type": "code",
   "execution_count": null,
   "id": "d6dfc97b-8d74-4d7d-9e2c-251f6c26e3cf",
   "metadata": {},
   "outputs": [],
   "source": [
    "# Apply PCA\n",
    "pca = PCA(n_components=min(len(features), 10))\n",
    "X_pca = pca.fit_transform(X_scaled)"
   ]
  },
  {
   "cell_type": "code",
   "execution_count": null,
   "id": "0fae9f4d-86b8-4856-95fa-294e43140d11",
   "metadata": {},
   "outputs": [],
   "source": [
    "# Scree plot\n",
    "plt.figure(figsize=(8, 4))\n",
    "plt.bar(range(1, len(pca.explained_variance_ratio_)+1), pca.explained_variance_ratio_, color='dodgerblue')\n",
    "plt.plot(range(1, len(pca.explained_variance_ratio_)+1), np.cumsum(pca.explained_variance_ratio_), marker='o', color='red')\n",
    "plt.xlabel('Principal Component')\n",
    "plt.ylabel('Explained Variance Ratio')\n",
    "plt.title('PCA Scree Plot')\n",
    "plt.grid(alpha=0.3)\n",
    "plt.tight_layout()\n",
    "plt.show()\n",
    "print(\"Explained variance by component:\", pca.explained_variance_ratio_)\n",
    "print(\"Cumulative explained variance:\", np.cumsum(pca.explained_variance_ratio_))"
   ]
  },
  {
   "cell_type": "code",
   "execution_count": null,
   "id": "b76a152e-2b47-443a-bee2-3d06f90082b5",
   "metadata": {},
   "outputs": [],
   "source": [
    "plt.figure(figsize=(8,6))\n",
    "plt.scatter(X_pca[:,0], X_pca[:,1], c=df_cleaned['year'], cmap='viridis', alpha=0.5)\n",
    "plt.xlabel('PC1')\n",
    "plt.ylabel('PC2')\n",
    "plt.title('PCA: First Two Principal Components')\n",
    "plt.colorbar(label='year')\n",
    "plt.grid(alpha=0.3)\n",
    "plt.tight_layout()\n",
    "plt.show()"
   ]
  },
  {
   "cell_type": "code",
   "execution_count": null,
   "id": "16be21f2-f56c-46b2-83ab-c6e689b0bdbf",
   "metadata": {},
   "outputs": [],
   "source": [
    "# Use first 3 PCs as features\n",
    "X_ml = X_pca[:, :3]\n",
    "# y = your target variable"
   ]
  },
  {
   "cell_type": "code",
   "execution_count": null,
   "id": "1242295c-a1fe-4675-a5f0-4f45395a33d1",
   "metadata": {},
   "outputs": [],
   "source": [
    "pc_df = pd.DataFrame(pca.components_, columns=features, index=[f'PC{i+1}' for i in range(len(features))])\n",
    "print(pc_df)"
   ]
  },
  {
   "cell_type": "markdown",
   "id": "70705fca-2ab9-484d-ab9a-f4c67ea60357",
   "metadata": {},
   "source": [
    "### PCA Interpretation\n",
    "\n",
    "Principal Component Analysis (PCA) is employed as a dimensionality reduction technique to address the high collinearity and complexity inherent in multi-source innovation data. The scree plot and explained variance outputs indicate that the first three principal components capture over 70% of the total variance, while six components account for over 95%. This justifies the use of a reduced feature space for subsequent modeling, minimizing the risk of overfitting and enhancing interpretability.\n",
    "\n",
    "The loadings matrix reveals that the first principal component is heavily influenced by both engagement rates and metric values, suggesting that these variables encapsulate the most salient patterns of innovation activity. The second component is more aligned with R&D expenditure, reflecting the financial backbone of innovation ecosystems.  \n",
    "By projecting the data onto the first two PCs, we observe temporal clustering, which may correspond to policy shifts or macroeconomic shocks identified in the DTI review. "
   ]
  },
  {
   "cell_type": "markdown",
   "id": "f7df4797-ab62-4824-aa3d-329d45f72166",
   "metadata": {},
   "source": [
    "## Machine Learning: Dimensionality Reduction and Regression\n",
    "\n",
    "We use PCA to reduce dimensionality, then apply linear regression and compare with Random Forest and Ridge models."
   ]
  },
  {
   "cell_type": "code",
   "execution_count": null,
   "id": "abb885b5-5696-4933-8b3c-bd1fb8ddc8ea",
   "metadata": {},
   "outputs": [],
   "source": [
    "from sklearn.linear_model import LinearRegression\n",
    "from sklearn.model_selection import train_test_split\n",
    "\n",
    "# Use first 3 PCs\n",
    "X_ml = X_pca[:, :3]\n",
    "y = df_cleaned['metric_value']  # Replace with your actual target\n",
    "\n",
    "X_train, X_test, y_train, y_test = train_test_split(X_ml, y, test_size=0.2, random_state=42)\n",
    "model = LinearRegression()\n",
    "model.fit(X_train, y_train)\n",
    "print(\"R^2 score on test set:\", model.score(X_test, y_test))"
   ]
  },
  {
   "cell_type": "code",
   "execution_count": null,
   "id": "50da7526-4674-44b4-835e-ef99bfd0c4da",
   "metadata": {},
   "outputs": [],
   "source": [
    "from sklearn.model_selection import cross_val_score, KFold\n",
    "\n",
    "kf = KFold(n_splits=5, shuffle=True, random_state=42)\n",
    "cv_scores = cross_val_score(model, X_ml, y, cv=kf, scoring='r2')\n",
    "print(f\"Cross-validated R² scores: {cv_scores}\")\n",
    "print(f\"Mean R²: {cv_scores.mean():.3f} | Std: {cv_scores.std():.3f}\")"
   ]
  },
  {
   "cell_type": "code",
   "execution_count": null,
   "id": "a3ab111c-9520-4327-8f1b-2fb10caa7da7",
   "metadata": {},
   "outputs": [],
   "source": [
    "print(\"Regression coefficients (for PCs):\")\n",
    "for i, coef in enumerate(model.coef_):\n",
    "    print(f\"PC{i+1}: {coef:.4f}\")"
   ]
  },
  {
   "cell_type": "code",
   "execution_count": null,
   "id": "946550df-5645-4c3f-846e-dab98521132c",
   "metadata": {},
   "outputs": [],
   "source": [
    "pc_df = pd.DataFrame(pca.components_, columns=features, index=[f'PC{i+1}' for i in range(len(features))])\n",
    "print(\"\\nPrincipal Component Loadings (features most important to each PC):\")\n",
    "print(pc_df.T)"
   ]
  },
  {
   "cell_type": "code",
   "execution_count": null,
   "id": "e8271263-c109-40a3-bc30-da17548139d7",
   "metadata": {},
   "outputs": [],
   "source": [
    "from sklearn.ensemble import RandomForestRegressor\n",
    "\n",
    "rf = RandomForestRegressor(n_estimators=100, random_state=42)\n",
    "rf.fit(X_train, y_train)\n",
    "rf_score = rf.score(X_test, y_test)\n",
    "print(f\"Random Forest R² on test set: {rf_score:.3f}\")"
   ]
  },
  {
   "cell_type": "code",
   "execution_count": null,
   "id": "42be9a6c-b28a-408e-b2b7-bfc86a5f6647",
   "metadata": {},
   "outputs": [],
   "source": [
    "from sklearn.linear_model import Ridge\n",
    "\n",
    "ridge = Ridge(alpha=1.0)\n",
    "ridge.fit(X_train, y_train)\n",
    "ridge_score = ridge.score(X_test, y_test)\n",
    "print(f\"Ridge Regression R² on test set: {ridge_score:.3f}\")"
   ]
  },
  {
   "cell_type": "code",
   "execution_count": null,
   "id": "bf6f0e25-bdf5-4e29-a1db-6f6623d92eb6",
   "metadata": {},
   "outputs": [],
   "source": [
    "y_pred = model.predict(X_test)\n",
    "plt.figure(figsize=(8,6))\n",
    "plt.scatter(y_test, y_pred, alpha=0.6, color='dodgerblue')\n",
    "plt.plot([y_test.min(), y_test.max()], [y_test.min(), y_test.max()], 'r--', lw=2)\n",
    "plt.xlabel('Actual Values')\n",
    "plt.ylabel('Predicted Values')\n",
    "plt.title('Actual vs. Predicted (Test Set)')\n",
    "plt.grid(alpha=0.3)\n",
    "plt.tight_layout()\n",
    "plt.show()"
   ]
  },
  {
   "cell_type": "code",
   "execution_count": null,
   "id": "41e8c0e7-aaca-4543-a8bd-5272e295a847",
   "metadata": {},
   "outputs": [],
   "source": [
    "print(\"=\"*60)\n",
    "print(\"ML Pipeline Summary\")\n",
    "print(\"=\"*60)\n",
    "print(f\"Best Linear Regression R² (test set): {model.score(X_test, y_test):.3f}\")\n",
    "print(f\"Cross-validated R² (mean ± std): {cv_scores.mean():.3f} ± {cv_scores.std():.3f}\")\n",
    "print(f\"Random Forest R² (test set): {rf_score:.3f}\")\n",
    "print(f\"Ridge Regression R² (test set): {ridge_score:.3f}\")\n",
    "print(\"\\nKey findings:\")\n",
    "print(\"- PCA reduces dimensionality while preserving >95% variance in 5-6 components.\")\n",
    "print(\"- Linear regression on PCs explains most of the variance in the target.\")\n",
    "print(\"- Model coefficients and PC loadings help interpret the influence of original features.\")\n",
    "print(\"- Random Forest and Ridge can confirm or improve performance.\")\n",
    "print(\"=\"*60)"
   ]
  },
  {
   "cell_type": "markdown",
   "id": "f687f4af-7abb-4a89-b532-d4116d7b6ef5",
   "metadata": {},
   "source": [
    "- **ML modeling** translates these insights into predictive and explanatory power, enabling robust policy evaluation and strategic forecasting, in line with the DTI’s mandate for evidence-based decision-making.\n",
    "\n",
    "Through this structured, iterative approach, we bridge the gap between data and strategy, transforming Ireland’s innovation data into a compass for national policy and enterprise action."
   ]
  },
  {
   "cell_type": "code",
   "execution_count": null,
   "id": "f32b9fd1-6baa-4b77-8092-3800fe4a57b9",
   "metadata": {},
   "outputs": [],
   "source": []
  }
 ],
 "metadata": {
  "kernelspec": {
   "display_name": "Python (TU_ENTORNO)",
   "language": "python",
   "name": "tu_entorno"
  },
  "language_info": {
   "codemirror_mode": {
    "name": "ipython",
    "version": 3
   },
   "file_extension": ".py",
   "mimetype": "text/x-python",
   "name": "python",
   "nbconvert_exporter": "python",
   "pygments_lexer": "ipython3",
   "version": "3.12.3"
  },
  "widgets": {
   "application/vnd.jupyter.widget-state+json": {
    "state": {},
    "version_major": 2,
    "version_minor": 0
   }
  }
 },
 "nbformat": 4,
 "nbformat_minor": 5
}
